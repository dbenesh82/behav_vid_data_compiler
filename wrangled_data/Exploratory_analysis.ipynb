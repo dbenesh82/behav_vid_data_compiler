{
 "cells": [
  {
   "cell_type": "markdown",
   "metadata": {},
   "source": [
    "# Exploratory analysis of copepod behavior dataset\n",
    "Here, I combine two csv files, one containing data from videos of copepod behavior and one containing comments from the people analyzing these videos. Then, I perform some basic exploratory data analyses."
   ]
  },
  {
   "cell_type": "code",
   "execution_count": 1,
   "metadata": {
    "collapsed": true
   },
   "outputs": [],
   "source": [
    "import pandas as pd # import pandas library"
   ]
  },
  {
   "cell_type": "markdown",
   "metadata": {},
   "source": [
    "First, read the two csv files into the workspace. The column names include some unusual characters, so the `latin-1` encoding is needed."
   ]
  },
  {
   "cell_type": "code",
   "execution_count": 2,
   "metadata": {},
   "outputs": [],
   "source": [
    "behav_data = pd.read_csv(\"behav_combined_out.csv\", encoding = 'latin-1')\n",
    "videogr_data = pd.read_csv(\"cops_measured_video_comments.csv\", encoding = 'latin-1')"
   ]
  },
  {
   "cell_type": "markdown",
   "metadata": {},
   "source": [
    "How many copepods have a behavior measurement?"
   ]
  },
  {
   "cell_type": "code",
   "execution_count": 3,
   "metadata": {},
   "outputs": [
    {
     "data": {
      "text/plain": [
       "(689, 686)"
      ]
     },
     "execution_count": 3,
     "metadata": {},
     "output_type": "execute_result"
    }
   ],
   "source": [
    "behav_data['cop_name'].nunique(), videogr_data['cop'].nunique()"
   ]
  },
  {
   "cell_type": "markdown",
   "metadata": {},
   "source": [
    "Pretty similar, but there are 3 copepods that are missing from the videography data. Which ones are they?"
   ]
  },
  {
   "cell_type": "code",
   "execution_count": 4,
   "metadata": {},
   "outputs": [
    {
     "name": "stdout",
     "output_type": "stream",
     "text": [
      "39_1B\n",
      "50_6D\n",
      "66_1B\n"
     ]
    }
   ],
   "source": [
    "cops_in_behav_not_videogr = []\n",
    "for x in range( 0, behav_data['cop_name'].nunique() ):\n",
    "    cop = behav_data['cop_name'].unique()[x]\n",
    "    if cop not in videogr_data['cop'].unique():\n",
    "        print(cop)\n",
    "        cops_in_behav_not_videogr.append(cop)"
   ]
  },
  {
   "cell_type": "markdown",
   "metadata": {},
   "source": [
    "My best guess is that these three copepods were deleted by accident from the videography file (it was used by multiple people). Another possibility is that there is a typo somewhere in either file. Probably gonna have to go to the raw data to figure this out. Keep this in mind in case they turn out to be problematic. Now, before we merge the two data tables, let's look at the column names.\n",
    "\n",
    "In the main *behavior* data frame, the first two columns record the observation number (starting from 0 or 1). Copepods were recorded for just over two minutes, with an observation taken every two seconds, hence the 62 observations per copepod per day. The `X` and `Y` variables record copepod position, and these coordinates are used to calculate the `Distance` moved by the copepod in each time interval. `Pixel Value` is simply how dark the tracked copepod appeared on the video. The three columns starting with `ok_` were created when compiling the dataset from individual txt files and flag cases of potential concern. The last three columns (`cop_name`, `day`, and `fname`) record the copepod id, the day post infection it was observed, and the file name containing the data for that copepod on that day."
   ]
  },
  {
   "cell_type": "code",
   "execution_count": 5,
   "metadata": {
    "scrolled": true
   },
   "outputs": [
    {
     "data": {
      "text/html": [
       "<div>\n",
       "<style>\n",
       "    .dataframe thead tr:only-child th {\n",
       "        text-align: right;\n",
       "    }\n",
       "\n",
       "    .dataframe thead th {\n",
       "        text-align: left;\n",
       "    }\n",
       "\n",
       "    .dataframe tbody tr th {\n",
       "        vertical-align: top;\n",
       "    }\n",
       "</style>\n",
       "<table border=\"1\" class=\"dataframe\">\n",
       "  <thead>\n",
       "    <tr style=\"text-align: right;\">\n",
       "      <th></th>\n",
       "      <th>Unnamed: 0</th>\n",
       "      <th>Slice n°</th>\n",
       "      <th>X</th>\n",
       "      <th>Y</th>\n",
       "      <th>Distance</th>\n",
       "      <th>Pixel Value</th>\n",
       "      <th>ok_col_names</th>\n",
       "      <th>ok_col_num</th>\n",
       "      <th>ok_row_num</th>\n",
       "      <th>cop_name</th>\n",
       "      <th>day</th>\n",
       "      <th>fname</th>\n",
       "    </tr>\n",
       "  </thead>\n",
       "  <tbody>\n",
       "    <tr>\n",
       "      <th>0</th>\n",
       "      <td>0</td>\n",
       "      <td>1.0</td>\n",
       "      <td>93.0</td>\n",
       "      <td>33.0</td>\n",
       "      <td>-1.000</td>\n",
       "      <td>131.0</td>\n",
       "      <td>1</td>\n",
       "      <td>0</td>\n",
       "      <td>0</td>\n",
       "      <td>01_1D</td>\n",
       "      <td>11</td>\n",
       "      <td>01_1D_11</td>\n",
       "    </tr>\n",
       "    <tr>\n",
       "      <th>1</th>\n",
       "      <td>1</td>\n",
       "      <td>2.0</td>\n",
       "      <td>88.0</td>\n",
       "      <td>23.0</td>\n",
       "      <td>1.442</td>\n",
       "      <td>150.0</td>\n",
       "      <td>1</td>\n",
       "      <td>0</td>\n",
       "      <td>0</td>\n",
       "      <td>01_1D</td>\n",
       "      <td>11</td>\n",
       "      <td>01_1D_11</td>\n",
       "    </tr>\n",
       "    <tr>\n",
       "      <th>2</th>\n",
       "      <td>2</td>\n",
       "      <td>3.0</td>\n",
       "      <td>88.0</td>\n",
       "      <td>22.0</td>\n",
       "      <td>0.129</td>\n",
       "      <td>155.0</td>\n",
       "      <td>1</td>\n",
       "      <td>0</td>\n",
       "      <td>0</td>\n",
       "      <td>01_1D</td>\n",
       "      <td>11</td>\n",
       "      <td>01_1D_11</td>\n",
       "    </tr>\n",
       "    <tr>\n",
       "      <th>3</th>\n",
       "      <td>3</td>\n",
       "      <td>4.0</td>\n",
       "      <td>71.0</td>\n",
       "      <td>15.0</td>\n",
       "      <td>2.372</td>\n",
       "      <td>197.0</td>\n",
       "      <td>1</td>\n",
       "      <td>0</td>\n",
       "      <td>0</td>\n",
       "      <td>01_1D</td>\n",
       "      <td>11</td>\n",
       "      <td>01_1D_11</td>\n",
       "    </tr>\n",
       "    <tr>\n",
       "      <th>4</th>\n",
       "      <td>4</td>\n",
       "      <td>5.0</td>\n",
       "      <td>69.0</td>\n",
       "      <td>13.0</td>\n",
       "      <td>0.365</td>\n",
       "      <td>205.0</td>\n",
       "      <td>1</td>\n",
       "      <td>0</td>\n",
       "      <td>0</td>\n",
       "      <td>01_1D</td>\n",
       "      <td>11</td>\n",
       "      <td>01_1D_11</td>\n",
       "    </tr>\n",
       "  </tbody>\n",
       "</table>\n",
       "</div>"
      ],
      "text/plain": [
       "   Unnamed: 0  Slice n°     X     Y  Distance  Pixel Value  ok_col_names  \\\n",
       "0           0       1.0  93.0  33.0    -1.000        131.0             1   \n",
       "1           1       2.0  88.0  23.0     1.442        150.0             1   \n",
       "2           2       3.0  88.0  22.0     0.129        155.0             1   \n",
       "3           3       4.0  71.0  15.0     2.372        197.0             1   \n",
       "4           4       5.0  69.0  13.0     0.365        205.0             1   \n",
       "\n",
       "   ok_col_num  ok_row_num cop_name  day     fname  \n",
       "0           0           0    01_1D   11  01_1D_11  \n",
       "1           0           0    01_1D   11  01_1D_11  \n",
       "2           0           0    01_1D   11  01_1D_11  \n",
       "3           0           0    01_1D   11  01_1D_11  \n",
       "4           0           0    01_1D   11  01_1D_11  "
      ]
     },
     "execution_count": 5,
     "metadata": {},
     "output_type": "execute_result"
    }
   ],
   "source": [
    "behav_data.head(5)"
   ]
  },
  {
   "cell_type": "markdown",
   "metadata": {},
   "source": [
    "In the *videography* data table, copepod name (`cop`), `day`, and filename (`fname`) correspond to those in the behavior dataset. The `by` variable records who processed the video, and if problems were noted, it is recorded in the `Ok?` variable."
   ]
  },
  {
   "cell_type": "code",
   "execution_count": 6,
   "metadata": {},
   "outputs": [
    {
     "data": {
      "text/html": [
       "<div>\n",
       "<style>\n",
       "    .dataframe thead tr:only-child th {\n",
       "        text-align: right;\n",
       "    }\n",
       "\n",
       "    .dataframe thead th {\n",
       "        text-align: left;\n",
       "    }\n",
       "\n",
       "    .dataframe tbody tr th {\n",
       "        vertical-align: top;\n",
       "    }\n",
       "</style>\n",
       "<table border=\"1\" class=\"dataframe\">\n",
       "  <thead>\n",
       "    <tr style=\"text-align: right;\">\n",
       "      <th></th>\n",
       "      <th>index</th>\n",
       "      <th>cop</th>\n",
       "      <th>day</th>\n",
       "      <th>fname</th>\n",
       "      <th>by</th>\n",
       "      <th>Ok?</th>\n",
       "      <th>remarks</th>\n",
       "    </tr>\n",
       "  </thead>\n",
       "  <tbody>\n",
       "    <tr>\n",
       "      <th>0</th>\n",
       "      <td>1</td>\n",
       "      <td>01_1D</td>\n",
       "      <td>5</td>\n",
       "      <td>01_1D_5</td>\n",
       "      <td>DB</td>\n",
       "      <td>0.0</td>\n",
       "      <td>NaN</td>\n",
       "    </tr>\n",
       "    <tr>\n",
       "      <th>1</th>\n",
       "      <td>10</td>\n",
       "      <td>01_2B</td>\n",
       "      <td>5</td>\n",
       "      <td>01_2B_5</td>\n",
       "      <td>MS</td>\n",
       "      <td>0.0</td>\n",
       "      <td>NaN</td>\n",
       "    </tr>\n",
       "    <tr>\n",
       "      <th>2</th>\n",
       "      <td>19</td>\n",
       "      <td>01_2C</td>\n",
       "      <td>5</td>\n",
       "      <td>01_2C_5</td>\n",
       "      <td>MS</td>\n",
       "      <td>0.0</td>\n",
       "      <td>NaN</td>\n",
       "    </tr>\n",
       "    <tr>\n",
       "      <th>3</th>\n",
       "      <td>28</td>\n",
       "      <td>01_3D</td>\n",
       "      <td>5</td>\n",
       "      <td>01_3D_5</td>\n",
       "      <td>MS</td>\n",
       "      <td>0.0</td>\n",
       "      <td>NaN</td>\n",
       "    </tr>\n",
       "    <tr>\n",
       "      <th>4</th>\n",
       "      <td>37</td>\n",
       "      <td>01_4A</td>\n",
       "      <td>5</td>\n",
       "      <td>01_4A_5</td>\n",
       "      <td>MS</td>\n",
       "      <td>0.0</td>\n",
       "      <td>NaN</td>\n",
       "    </tr>\n",
       "  </tbody>\n",
       "</table>\n",
       "</div>"
      ],
      "text/plain": [
       "   index    cop  day    fname  by  Ok? remarks\n",
       "0      1  01_1D    5  01_1D_5  DB  0.0     NaN\n",
       "1     10  01_2B    5  01_2B_5  MS  0.0     NaN\n",
       "2     19  01_2C    5  01_2C_5  MS  0.0     NaN\n",
       "3     28  01_3D    5  01_3D_5  MS  0.0     NaN\n",
       "4     37  01_4A    5  01_4A_5  MS  0.0     NaN"
      ]
     },
     "execution_count": 6,
     "metadata": {},
     "output_type": "execute_result"
    }
   ],
   "source": [
    "videogr_data.head(5)"
   ]
  },
  {
   "cell_type": "markdown",
   "metadata": {},
   "source": [
    "Some of the information in the data tables is repetitive, so let's select the needed columns and rename them for simplicity and consistency."
   ]
  },
  {
   "cell_type": "code",
   "execution_count": 7,
   "metadata": {},
   "outputs": [],
   "source": [
    "behav_data = (behav_data[['Slice n°', 'Distance', 'Pixel Value', # select columns\n",
    "                         'ok_col_names', 'ok_col_num', 'ok_row_num',\n",
    "                         'cop_name', 'day', 'fname']]\n",
    "              .rename(columns = {'Slice n°':'slice', # rename columns\n",
    "                                 'Distance':'dist',\n",
    "                                 'Pixel Value':'pixel'})\n",
    "              .sort_values(['day', 'cop_name', 'slice'], ascending = [True, True, True]) # sort by day and copepod\n",
    "             )"
   ]
  },
  {
   "cell_type": "code",
   "execution_count": 8,
   "metadata": {},
   "outputs": [],
   "source": [
    "videogr_data = (videogr_data[['fname', 'by', 'Ok?', 'remarks']]\n",
    "                .rename(columns = {'by':'recorded_by',\n",
    "                                   'Ok?':'video_problematic',\n",
    "                                   'remarks':'video_remarks'})\n",
    "               )"
   ]
  },
  {
   "cell_type": "markdown",
   "metadata": {},
   "source": [
    "Now we can merge the two data frames into a combined dataset."
   ]
  },
  {
   "cell_type": "code",
   "execution_count": 9,
   "metadata": {
    "collapsed": true
   },
   "outputs": [],
   "source": [
    "combined_data = pd.merge(behav_data, videogr_data,\n",
    "                         how = 'left', on = 'fname')"
   ]
  },
  {
   "cell_type": "markdown",
   "metadata": {},
   "source": [
    "How many videos were processed? Each file name corresponds to one video, so let's count the file names."
   ]
  },
  {
   "cell_type": "code",
   "execution_count": 11,
   "metadata": {},
   "outputs": [
    {
     "data": {
      "text/plain": [
       "4566"
      ]
     },
     "execution_count": 11,
     "metadata": {},
     "output_type": "execute_result"
    }
   ],
   "source": [
    "combined_data['fname'].nunique()"
   ]
  },
  {
   "cell_type": "markdown",
   "metadata": {},
   "source": [
    "That's a lot! Now of those, how many are potentially problematic? There are 4 variables that flag cases worth looking at. Let's count the problems by focusing on these variables. In each, a 1 records a problematic case, while a 0 is a non-problematic one. Next, we group by the video (`fname`) and then sum the values. Anything above zero is a problematic video."
   ]
  },
  {
   "cell_type": "code",
   "execution_count": 16,
   "metadata": {},
   "outputs": [],
   "source": [
    "prob_df = combined_data[['fname', 'ok_col_names', \n",
    "                         'ok_col_num', 'ok_row_num',\n",
    "                         'video_problematic']].groupby(by = 'fname').sum()"
   ]
  },
  {
   "cell_type": "code",
   "execution_count": 53,
   "metadata": {},
   "outputs": [],
   "source": [
    "def is_zero(x):\n",
    "    if x == 0:\n",
    "        return x\n",
    "    else:\n",
    "        return 1.0"
   ]
  },
  {
   "cell_type": "code",
   "execution_count": 54,
   "metadata": {},
   "outputs": [
    {
     "data": {
      "text/html": [
       "<div>\n",
       "<style>\n",
       "    .dataframe thead tr:only-child th {\n",
       "        text-align: right;\n",
       "    }\n",
       "\n",
       "    .dataframe thead th {\n",
       "        text-align: left;\n",
       "    }\n",
       "\n",
       "    .dataframe tbody tr th {\n",
       "        vertical-align: top;\n",
       "    }\n",
       "</style>\n",
       "<table border=\"1\" class=\"dataframe\">\n",
       "  <thead>\n",
       "    <tr style=\"text-align: right;\">\n",
       "      <th></th>\n",
       "      <th>ok_col_names</th>\n",
       "      <th>ok_col_num</th>\n",
       "      <th>ok_row_num</th>\n",
       "      <th>video_problematic</th>\n",
       "    </tr>\n",
       "  </thead>\n",
       "  <tbody>\n",
       "    <tr>\n",
       "      <th>0.0</th>\n",
       "      <td>1919</td>\n",
       "      <td>4566.0</td>\n",
       "      <td>4494</td>\n",
       "      <td>4450</td>\n",
       "    </tr>\n",
       "    <tr>\n",
       "      <th>1.0</th>\n",
       "      <td>2647</td>\n",
       "      <td>NaN</td>\n",
       "      <td>72</td>\n",
       "      <td>116</td>\n",
       "    </tr>\n",
       "  </tbody>\n",
       "</table>\n",
       "</div>"
      ],
      "text/plain": [
       "     ok_col_names  ok_col_num  ok_row_num  video_problematic\n",
       "0.0          1919      4566.0        4494               4450\n",
       "1.0          2647         NaN          72                116"
      ]
     },
     "execution_count": 54,
     "metadata": {},
     "output_type": "execute_result"
    }
   ],
   "source": [
    "pd.concat([\n",
    "    prob_df['ok_col_names'].apply(is_zero).value_counts(),\n",
    "    prob_df['ok_col_num'].apply(is_zero).value_counts(),\n",
    "    prob_df['ok_row_num'].apply(is_zero).value_counts(),\n",
    "    prob_df['video_problematic'].apply(is_zero).value_counts()\n",
    "], axis = 1)"
   ]
  },
  {
   "cell_type": "markdown",
   "metadata": {},
   "source": [
    "The most common issue was that column names were missing when imported in the txt file containing the data. I think was a byproduct of how the file was saved and is thus not likely to be important. Still, since the videos with and without column names are fairly split, we can check whether there are obvious differences between the file types. None of the imported files had the wrong number of columns. \n",
    "\n",
    "The next most common issue was problematic videos (116/4566, 2.5%). Some of this is probably difficulty observing the copepod, but some cases are also likely video mistakes, such as letting it run too long. This leads to the next problem...\n",
    "\n",
    "Some videos (72/4566, 1.5%) ended up with the wrong number of rows. When we look at the distribution of rows, most common was to miss a single observation (61 instead of 62 observations). There also appear to be a few cases in which twice as many observations as expected were made. Whether the videos can be re-analyzed and corrected remains to be determined."
   ]
  },
  {
   "cell_type": "code",
   "execution_count": 72,
   "metadata": {},
   "outputs": [
    {
     "data": {
      "text/plain": [
       "62     4493\n",
       "61       41\n",
       "47       13\n",
       "63        8\n",
       "60        3\n",
       "59        1\n",
       "66        1\n",
       "113       1\n",
       "53        1\n",
       "124       1\n",
       "96        1\n",
       "56        1\n",
       "52        1\n",
       "Name: ok_row_num, dtype: int64"
      ]
     },
     "execution_count": 72,
     "metadata": {},
     "output_type": "execute_result"
    }
   ],
   "source": [
    "c = combined_data[['fname', 'ok_row_num']].groupby(by = 'fname').count()\n",
    "c['ok_row_num'].value_counts()"
   ]
  },
  {
   "cell_type": "code",
   "execution_count": null,
   "metadata": {
    "collapsed": true
   },
   "outputs": [],
   "source": []
  }
 ],
 "metadata": {
  "kernelspec": {
   "display_name": "Python 3",
   "language": "python",
   "name": "python3"
  },
  "language_info": {
   "codemirror_mode": {
    "name": "ipython",
    "version": 3
   },
   "file_extension": ".py",
   "mimetype": "text/x-python",
   "name": "python",
   "nbconvert_exporter": "python",
   "pygments_lexer": "ipython3",
   "version": "3.6.2"
  }
 },
 "nbformat": 4,
 "nbformat_minor": 2
}
